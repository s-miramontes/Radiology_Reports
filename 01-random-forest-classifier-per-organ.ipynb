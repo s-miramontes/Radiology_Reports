{
 "cells": [
  {
   "cell_type": "code",
   "execution_count": 1,
   "id": "ae6e3fd1",
   "metadata": {},
   "outputs": [],
   "source": [
    "import os\n",
    "\n",
    "import numpy as np\n",
    "import pandas as pd\n",
    "import joblib\n",
    "\n",
    "import sklearn\n",
    "\n",
    "from sklearn.ensemble import RandomForestClassifier\n",
    "from sklearn.feature_extraction.text import TfidfVectorizer\n",
    "from sklearn.multioutput import MultiOutputClassifier\n",
    "from sklearn.pipeline import make_pipeline\n",
    "from sklearn.model_selection import train_test_split\n",
    "\n",
    "from sklearn.metrics import accuracy_score, f1_score\n",
    "from sklearn.metrics import classification_report"
   ]
  },
  {
   "cell_type": "markdown",
   "id": "3aaced9a",
   "metadata": {},
   "source": [
    "some useful functions **TODO**: turn to script and import for cleanliness"
   ]
  },
  {
   "cell_type": "code",
   "execution_count": 2,
   "id": "bf256765",
   "metadata": {},
   "outputs": [],
   "source": [
    "def getFiles(organName, listDir, prefix=None):\n",
    "    \"\"\"\n",
    "    Generate list of files associa-\n",
    "    ted with each organ of interest\n",
    "    in the list of files.\n",
    "    --------------------------\n",
    "    Input:\n",
    "        organ_list: list of organs\n",
    "                    str\n",
    "        listDir:    list of files  \n",
    "                    to search\n",
    "        prefix:     OS path prefix\n",
    "    Output:\n",
    "        lists:      list of files \n",
    "                    associated with\n",
    "                    organ\n",
    "    \"\"\"\n",
    "    # get the files from listDir that contain 'organName'\n",
    "    matching = [file for file in listDir if organName in file]\n",
    "    \n",
    "    # append the path prefix so that files are accessible\n",
    "    if prefix:\n",
    "        matchingFixed = [prefix + file for file in matching]\n",
    "        return matchingFixed\n",
    "    \n",
    "    else:\n",
    "        return matching"
   ]
  },
  {
   "cell_type": "code",
   "execution_count": 3,
   "id": "83a4f37a",
   "metadata": {},
   "outputs": [],
   "source": [
    "def filestoDF(file_list):\n",
    "    \"\"\"\n",
    "    Return a list of data frames from the given\n",
    "    list of files.\n",
    "    \"\"\"\n",
    "    dfs = [pd.read_csv(file, low_memory=False) for file in file_list]\n",
    "    return dfs"
   ]
  },
  {
   "cell_type": "markdown",
   "id": "3743b2a9",
   "metadata": {},
   "source": [
    "Classifier functions and classes"
   ]
  },
  {
   "cell_type": "code",
   "execution_count": 4,
   "id": "e3cd0fd9",
   "metadata": {},
   "outputs": [],
   "source": [
    "class RFClassifier:\n",
    "    def __init__(self, labels, multilabel=False):\n",
    "        # boolean, if multilabel (T/F)\n",
    "        self.multilabel = multilabel \n",
    "        # initialize model (RF), method below\n",
    "        self.model = self.initialize_model() \n",
    "        \n",
    "        # set labels ['Present', 'Absent'] or multilabels\n",
    "        self.labels = labels \n",
    "        # idx each label in a dictionary key: label, val: idx\n",
    "        self.label2idx = {l: i for i, l in enumerate(self.labels)}\n",
    "\n",
    "    def initialize_model(self):\n",
    "        # model is random forest, n=-1 means use all available\n",
    "        # processors (parallel)\n",
    "        model = RandomForestClassifier(verbose=False, n_jobs=-1)\n",
    "        # if true in multilabel, \n",
    "        if self.multilabel:\n",
    "            # make it multilabel: one classifier (assign a label\n",
    "            # to data point) per target, estimator (first param)\n",
    "            # is the model at hand (random forest here)\n",
    "            model = MultiOutputClassifier(model, n_jobs=-1)\n",
    "        \n",
    "        model = make_pipeline(TfidfVectorizer(ngram_range=(1, 5)), model)\n",
    "        return model\n",
    "\n",
    "    def fit(self, X, y):\n",
    "        # first fix depending on multilabel or binary\n",
    "        \n",
    "        # if not False: then its true, then binary\n",
    "        if not self.multilabel:\n",
    "            y = np.ravel(y)\n",
    "            # idx at label\n",
    "            y = [self.label2idx[i] for i in y]\n",
    "        # otherwise multilabel\n",
    "        else:\n",
    "            multilabel_idx = np.zeros(shape=(len(X), len(self.labels)))\n",
    "            for i, cur_labels in enumerate(y):\n",
    "                for cur_label in cur_labels:\n",
    "                    multilabel_idx[i, self.label2idx.get(cur_label)] = 1\n",
    "            y = multilabel_idx\n",
    "            \n",
    "        # now call on random forest fit method once y is appropriately\n",
    "        # constructed\n",
    "        return self.model.fit(X, y)\n",
    "\n",
    "    def predict(self, X):\n",
    "        # get model probability predictions\n",
    "        probabilities = self.model.predict_proba(X)\n",
    "        \n",
    "        # if binary\n",
    "        if not self.multilabel:\n",
    "            # idx of the max probability in label\n",
    "            predicted_label_indices = np.argmax(probabilities, axis=1)\n",
    "            # predicted scores for each\n",
    "            predicted_scores = probabilities[np.arange(len(predicted_label_indices)), predicted_label_indices]\n",
    "        # else it is multilabel\n",
    "        else:\n",
    "            predicted_label_indices = self.model.predict(X)\n",
    "            # redefine the var probabilities, this is mainly to deal with the prob outputs of multilabel\n",
    "            # should work bc the model was already altered to be multilabel\n",
    "            probabilities = [np.max(i, axis=1) for i in probabilities]\n",
    "            probabilities = np.stack(probabilities, axis=1)\n",
    "\n",
    "            # Using maximum confidence over all labels as the classifier confidence, since random forest\n",
    "            predicted_scores = np.max(probabilities, axis=1)\n",
    "            \n",
    "        predictions, scores = list(), list()\n",
    "        for idx, score in zip(predicted_label_indices, predicted_scores):\n",
    "            if not self.multilabel:\n",
    "                predicted_labels = [self.labels[idx]]\n",
    "            else:\n",
    "                predicted_labels = idx # [self.labels[i] for i, j in enumerate(idx) if int(j) == 1]\n",
    "            predictions.append(predicted_labels)\n",
    "\n",
    "        return predictions, predicted_scores"
   ]
  },
  {
   "cell_type": "code",
   "execution_count": 5,
   "id": "76f028c8",
   "metadata": {},
   "outputs": [],
   "source": [
    "def predictFiles(model, fileList, dfList, classes=['Present', 'Absent'], impression=False):\n",
    "    \"\"\"\n",
    "    Predict from fileList and dfList.\n",
    "    List of files provided to keep track of\n",
    "    file names. DF list provided since\n",
    "    it was previously computed.\n",
    "    \n",
    "    Output is a list of DFs.\n",
    "    \"\"\"\n",
    "    \n",
    "    # save your dataframes, perhaps in csv later\n",
    "    finalDFS = []\n",
    "    for i, frame in enumerate(dfList):\n",
    "        \n",
    "        # file name keeping\n",
    "        split0 = fileList[i].split('/')[-1].split('.')[0]\n",
    "        split1 = split0.split('_')[0:2]\n",
    "        name = ' '.join(split1)\n",
    "\n",
    "        # X data from df: text is either impression + org note, org note\n",
    "        if impression:\n",
    "            X_dev = frame['Impression and Note']\n",
    "            ids = frame['idx'].tolist()\n",
    "        elif not impression:\n",
    "            X_dev = frame['organ_sentence']\n",
    "            ids = frame['idx'].tolist()\n",
    "        \n",
    "        # gold labels and str from list\n",
    "        if len(classes) == 2:\n",
    "            y_dev = frame['organ_label']\n",
    "            y_dev = [i[2:-2] for i in y_dev]\n",
    "        elif len(classes) > 2:\n",
    "            y_dev = frame['disease_label']\n",
    "            y_dev = [i[2:-2] for i in y_dev]\n",
    "\n",
    "        # get preds and str from list\n",
    "        preds, pred_probs = model.predict(X_dev)\n",
    "        preds = [i[0] for i in preds]\n",
    "        \n",
    "        # results --> df \n",
    "        res = pd.DataFrame({'idx': ids,\n",
    "                            \"text_impression_note\": X_dev,\n",
    "                            \"Predictions\": preds,\n",
    "                            \"Actual\": y_dev,\n",
    "                            \"Prediction Probabilities\": pred_probs})\n",
    "        finalDFS.append(res)\n",
    "\n",
    "        # metrics\n",
    "        print(\"****** Classification report for: \", name.upper()+ \" *********\")\n",
    "        clf_rep = classification_report(y_dev, preds, labels = classes, zero_division=0)\n",
    "        print(clf_rep)\n",
    "        print(\"      \")\n",
    "        \n",
    "    return finalDFS"
   ]
  },
  {
   "cell_type": "markdown",
   "id": "66436f6a",
   "metadata": {},
   "source": [
    "### Train: Binary\n",
    "Data import"
   ]
  },
  {
   "cell_type": "code",
   "execution_count": 6,
   "id": "f0e0fe7c",
   "metadata": {},
   "outputs": [],
   "source": [
    "dirPath = '../data_200/data_silvia/'\n",
    "files = os.listdir(dirPath)\n",
    "\n",
    "# get train and dev files\n",
    "trainFiles = getFiles('train', files, prefix = dirPath)\n",
    "devFiles = getFiles('dev', files, prefix = dirPath)\n",
    "\n",
    "# liver and pancreas\n",
    "trainFiles_Liver = sorted(getFiles('Liver', trainFiles))\n",
    "devFiles_Liver = sorted(getFiles('Liver', devFiles))\n",
    "trainFiles_Pancreas = sorted(getFiles('Pancreas', trainFiles))\n",
    "devFiles_Pancreas = sorted(getFiles('Pancreas', devFiles))\n",
    "\n",
    "# files to dfs (liver and pancreas separate)\n",
    "trainDF_Liver = filestoDF(trainFiles_Liver)\n",
    "devDF_Liver = filestoDF(devFiles_Liver)\n",
    "trainDF_Pancreas = filestoDF(trainFiles_Pancreas)\n",
    "devDF_Pancreas = filestoDF(devFiles_Pancreas)"
   ]
  },
  {
   "cell_type": "markdown",
   "id": "ba23eee1",
   "metadata": {},
   "source": [
    "**Liver Data Only**"
   ]
  },
  {
   "cell_type": "code",
   "execution_count": 7,
   "id": "dd4d971c",
   "metadata": {},
   "outputs": [],
   "source": [
    "# file order: abnormal finds, indeterminate nods, prev surg, dis loc\n",
    "X_trainIMP = trainDF_Liver[0]['Impression and Note'].tolist() + trainDF_Liver[1]['Impression and Note'].tolist() + trainDF_Liver[2]['Impression and Note'].tolist() + trainDF_Liver[3]['Impression and Note'].tolist()\n",
    "\n",
    "yIMP_0 = [i[2:len(i)-2] for i in trainDF_Liver[0]['disease_label'].tolist()]\n",
    "yIMP_1 = [i[2:len(i)-2] for i in trainDF_Liver[1]['disease_label'].tolist()]\n",
    "yIMP_2 = [i[2:len(i)-2] for i in trainDF_Liver[2]['disease_label'].tolist()]\n",
    "yIMP_3 = [i[2:len(i)-2] for i in trainDF_Liver[3]['disease_label'].tolist()]\n",
    "y_trainIMP = yIMP_0 + yIMP_1 + yIMP_2 + yIMP_3\n",
    "\n",
    "X_trainNOT = trainDF_Liver[0]['organ_sentence'].tolist() + trainDF_Liver[1]['organ_sentence'].tolist() + trainDF_Liver[2]['organ_sentence'].tolist() + trainDF_Liver[3]['organ_sentence'].tolist()\n",
    "\n",
    "yNOT_0 = [i[2:len(i)-2] for i in trainDF_Liver[0]['organ_label'].tolist()]\n",
    "yNOT_1 = [i[2:len(i)-2] for i in trainDF_Liver[1]['organ_label'].tolist()]\n",
    "yNOT_2 = [i[2:len(i)-2] for i in trainDF_Liver[2]['organ_label'].tolist()]\n",
    "yNOT_3 = [i[2:len(i)-2] for i in trainDF_Liver[3]['organ_label'].tolist()]\n",
    "# all notes combined\n",
    "y_trainNOT = yNOT_0 + yNOT_1 + yNOT_2 + yNOT_3\n",
    "\n",
    "\n",
    "# may need to re-structure this below or here to properly test eveything. \n",
    "X_devIMP = devDF_Liver[0]['Impression and Note']\n",
    "X_devNOT = devDF_Liver[0]['organ_sentence']\n",
    "\n",
    "y_devIMP = devDF_Liver[0]['disease_label']\n",
    "y_devNOT = devDF_Liver[0]['organ_label']"
   ]
  },
  {
   "cell_type": "markdown",
   "id": "28146d7e",
   "metadata": {},
   "source": [
    "**Train on organ notes** (`Present`/`Absent`)."
   ]
  },
  {
   "cell_type": "code",
   "execution_count": 8,
   "id": "d5704d94",
   "metadata": {
    "scrolled": true
   },
   "outputs": [
    {
     "data": {
      "text/plain": [
       "Pipeline(steps=[('tfidfvectorizer', TfidfVectorizer(ngram_range=(1, 5))),\n",
       "                ('randomforestclassifier',\n",
       "                 RandomForestClassifier(n_jobs=-1, verbose=False))])"
      ]
     },
     "execution_count": 8,
     "metadata": {},
     "output_type": "execute_result"
    }
   ],
   "source": [
    "LiverClassifier_BNOT = RFClassifier(['Present', 'Absent'], multilabel = False)\n",
    "# now we combine all organ_sentence notes for all Liver issues (abnormal findings, indeterminate nods..etc)\n",
    "# with corresponding binary labels -- see cell above\n",
    "LiverClassifier_BNOT.fit(X_trainNOT, y_trainNOT)"
   ]
  },
  {
   "cell_type": "code",
   "execution_count": 9,
   "id": "f12b255a",
   "metadata": {},
   "outputs": [
    {
     "data": {
      "text/plain": [
       "['models/RandomForest_LiverNOTE_binary.joblib']"
      ]
     },
     "execution_count": 9,
     "metadata": {},
     "output_type": "execute_result"
    }
   ],
   "source": [
    "# save model\n",
    "joblib.dump(LiverClassifier_BNOT, \"models/RandomForest_LiverNOTE_binary.joblib\")"
   ]
  },
  {
   "cell_type": "markdown",
   "id": "f4cb132e",
   "metadata": {},
   "source": [
    "**Train on organ notes + impression** (`Present`/`Absent`): *will the addition of the impression text improve scores?*"
   ]
  },
  {
   "cell_type": "code",
   "execution_count": 10,
   "id": "358ff70e",
   "metadata": {
    "scrolled": true
   },
   "outputs": [
    {
     "data": {
      "text/plain": [
       "Pipeline(steps=[('tfidfvectorizer', TfidfVectorizer(ngram_range=(1, 5))),\n",
       "                ('randomforestclassifier',\n",
       "                 RandomForestClassifier(n_jobs=-1, verbose=False))])"
      ]
     },
     "execution_count": 10,
     "metadata": {},
     "output_type": "execute_result"
    }
   ],
   "source": [
    "LiverClassifier_BIMP = RFClassifier(['Present', 'Absent'], multilabel = False)\n",
    "# still keeping the same binary labels of present/absent\n",
    "LiverClassifier_BIMP.fit(X_trainIMP, y_trainNOT)"
   ]
  },
  {
   "cell_type": "code",
   "execution_count": 11,
   "id": "2357eac5",
   "metadata": {},
   "outputs": [
    {
     "data": {
      "text/plain": [
       "['models/RandomForest_LiverIMP_binary.joblib']"
      ]
     },
     "execution_count": 11,
     "metadata": {},
     "output_type": "execute_result"
    }
   ],
   "source": [
    "# save model \n",
    "joblib.dump(LiverClassifier_BIMP, \"models/RandomForest_LiverIMP_binary.joblib\")"
   ]
  },
  {
   "cell_type": "markdown",
   "id": "ded53285",
   "metadata": {},
   "source": [
    "**Organ Note predictions**: Predict on all dev files"
   ]
  },
  {
   "cell_type": "code",
   "execution_count": 12,
   "id": "b79aeb68",
   "metadata": {
    "scrolled": false
   },
   "outputs": [
    {
     "name": "stdout",
     "output_type": "stream",
     "text": [
      "****** Classification report for:  ABNORMAL FINDINGS LIVER *********\n",
      "              precision    recall  f1-score   support\n",
      "\n",
      "     Present       0.00      0.00      0.00        20\n",
      "      Absent       0.50      0.95      0.66        21\n",
      "\n",
      "    accuracy                           0.49        41\n",
      "   macro avg       0.25      0.48      0.33        41\n",
      "weighted avg       0.26      0.49      0.34        41\n",
      "\n",
      "      \n",
      "****** Classification report for:  INDETERMINATE NODULES LIVER *********\n",
      "              precision    recall  f1-score   support\n",
      "\n",
      "     Present       0.00      0.00      0.00         8\n",
      "      Absent       0.80      0.97      0.88        33\n",
      "\n",
      "    accuracy                           0.78        41\n",
      "   macro avg       0.40      0.48      0.44        41\n",
      "weighted avg       0.64      0.78      0.71        41\n",
      "\n",
      "      \n",
      "****** Classification report for:  PREVIOUS SURGERIES LIVER *********\n",
      "              precision    recall  f1-score   support\n",
      "\n",
      "     Present       0.00      0.00      0.00         2\n",
      "      Absent       0.95      0.97      0.96        39\n",
      "\n",
      "    accuracy                           0.93        41\n",
      "   macro avg       0.47      0.49      0.48        41\n",
      "weighted avg       0.90      0.93      0.92        41\n",
      "\n",
      "      \n",
      "****** Classification report for:  DISEASE LOCATION *********\n",
      "              precision    recall  f1-score   support\n",
      "\n",
      "     Present       1.00      0.14      0.25         7\n",
      "      Absent       0.84      1.00      0.91        31\n",
      "\n",
      "    accuracy                           0.84        38\n",
      "   macro avg       0.92      0.57      0.58        38\n",
      "weighted avg       0.87      0.84      0.79        38\n",
      "\n",
      "      \n"
     ]
    }
   ],
   "source": [
    "# now predict on dev files (abnormal finds)\n",
    "abnormalFinds1 = predictFiles(LiverClassifier_BNOT,[devFiles_Liver[0]], [devDF_Liver[0]])\n",
    "# predict indeterminate nodes\n",
    "indeterNods1 = predictFiles(LiverClassifier_BNOT, [devFiles_Liver[1]], [devDF_Liver[1]])\n",
    "# predict previous surgery\n",
    "prevSurg1 = predictFiles(LiverClassifier_BNOT, [devFiles_Liver[2]], [devDF_Liver[2]])\n",
    "# predict disease location\n",
    "diseaseLoc1 = predictFiles(LiverClassifier_BNOT, [devFiles_Liver[3]], [devDF_Liver[3]])"
   ]
  },
  {
   "cell_type": "markdown",
   "id": "f59f9c72",
   "metadata": {},
   "source": [
    "**Impression + Note Predictions**"
   ]
  },
  {
   "cell_type": "code",
   "execution_count": 13,
   "id": "8addda63",
   "metadata": {},
   "outputs": [
    {
     "name": "stdout",
     "output_type": "stream",
     "text": [
      "****** Classification report for:  ABNORMAL FINDINGS LIVER *********\n",
      "              precision    recall  f1-score   support\n",
      "\n",
      "     Present       1.00      0.10      0.18        20\n",
      "      Absent       0.54      1.00      0.70        21\n",
      "\n",
      "    accuracy                           0.56        41\n",
      "   macro avg       0.77      0.55      0.44        41\n",
      "weighted avg       0.76      0.56      0.45        41\n",
      "\n",
      "      \n",
      "****** Classification report for:  INDETERMINATE NODULES LIVER *********\n",
      "              precision    recall  f1-score   support\n",
      "\n",
      "     Present       1.00      0.25      0.40         8\n",
      "      Absent       0.85      1.00      0.92        33\n",
      "\n",
      "    accuracy                           0.85        41\n",
      "   macro avg       0.92      0.62      0.66        41\n",
      "weighted avg       0.88      0.85      0.82        41\n",
      "\n",
      "      \n",
      "****** Classification report for:  PREVIOUS SURGERIES LIVER *********\n",
      "              precision    recall  f1-score   support\n",
      "\n",
      "     Present       0.00      0.00      0.00         2\n",
      "      Absent       0.95      0.95      0.95        39\n",
      "\n",
      "    accuracy                           0.90        41\n",
      "   macro avg       0.47      0.47      0.47        41\n",
      "weighted avg       0.90      0.90      0.90        41\n",
      "\n",
      "      \n",
      "****** Classification report for:  DISEASE LOCATION *********\n",
      "              precision    recall  f1-score   support\n",
      "\n",
      "     Present       0.00      0.00      0.00         7\n",
      "      Absent       0.81      0.97      0.88        31\n",
      "\n",
      "    accuracy                           0.79        38\n",
      "   macro avg       0.41      0.48      0.44        38\n",
      "weighted avg       0.66      0.79      0.72        38\n",
      "\n",
      "      \n"
     ]
    }
   ],
   "source": [
    "# predict on dev abnormal finds\n",
    "abnormalFinds2 = predictFiles(LiverClassifier_BIMP,[devFiles_Liver[0]],[devDF_Liver[0]], impression=True)\n",
    "# predict indeterminate nodes\n",
    "indeterNods2 = predictFiles(LiverClassifier_BIMP, [devFiles_Liver[1]], [devDF_Liver[1]], impression=True)\n",
    "# predict previous surgery\n",
    "prevSurg2 = predictFiles(LiverClassifier_BIMP, [devFiles_Liver[2]], [devDF_Liver[2]], impression=True)\n",
    "# predict disease location\n",
    "diseaseLoc2 = predictFiles(LiverClassifier_BIMP, [devFiles_Liver[3]], [devDF_Liver[3]], impression=True)"
   ]
  },
  {
   "cell_type": "markdown",
   "id": "45ac018f",
   "metadata": {},
   "source": [
    "Interesting! Not excellent but there was some improvement. Increased training data by training on all organ notes with corresponding labels. Same applied to impression + organ notes.\n",
    "Now Previous surgeries performs rel. well as oppossed to Abnormal findings (using `LIT` for this)."
   ]
  },
  {
   "cell_type": "markdown",
   "id": "da9b6879",
   "metadata": {},
   "source": [
    "### Train: Multilabel"
   ]
  },
  {
   "cell_type": "markdown",
   "id": "340b8f47",
   "metadata": {},
   "source": [
    "**Train with Impression + Organ Notes** Multilabel [`Disease Stability`, `No evidence of disease`, etc]\n",
    "\n",
    "Note that I am not trainig with only organ notes, since less features (organ notes only) will not necessarily guarantee a good performance from ML perspective. In other words, I'd be expecting that less text (organ specific notes) could successfully predict the multiclass labels.\n",
    "- Have also expanded training data to include all impression + organ notes for liver."
   ]
  },
  {
   "cell_type": "code",
   "execution_count": 14,
   "id": "12fafb84",
   "metadata": {},
   "outputs": [
    {
     "data": {
      "text/plain": [
       "Pipeline(steps=[('tfidfvectorizer', TfidfVectorizer(ngram_range=(1, 5))),\n",
       "                ('randomforestclassifier',\n",
       "                 RandomForestClassifier(n_jobs=-1, verbose=False))])"
      ]
     },
     "execution_count": 14,
     "metadata": {},
     "output_type": "execute_result"
    }
   ],
   "source": [
    "multiclass = ['Disease Stability','No evidence of disease',\n",
    "              'Progression', 'Unclear', 'Mixed', 'Treatment response']\n",
    "\n",
    "# M: multilabel, IMP: impression\n",
    "LiverClassifier_MIMP = RFClassifier(multiclass, multilabel=False)\n",
    "LiverClassifier_MIMP.fit(X_trainIMP, y_trainIMP)"
   ]
  },
  {
   "cell_type": "code",
   "execution_count": 15,
   "id": "04f8bee4",
   "metadata": {},
   "outputs": [
    {
     "data": {
      "text/plain": [
       "['models/RandomForest_LiverIMP_multi.joblib']"
      ]
     },
     "execution_count": 15,
     "metadata": {},
     "output_type": "execute_result"
    }
   ],
   "source": [
    "# save model\n",
    "joblib.dump(LiverClassifier_MIMP, \"models/RandomForest_LiverIMP_multi.joblib\")"
   ]
  },
  {
   "cell_type": "markdown",
   "id": "a2ec401f",
   "metadata": {},
   "source": [
    "**Predict on Dev Impression + Note Files**"
   ]
  },
  {
   "cell_type": "code",
   "execution_count": 16,
   "id": "1f47d1a0",
   "metadata": {
    "scrolled": false
   },
   "outputs": [
    {
     "name": "stdout",
     "output_type": "stream",
     "text": [
      "****** Classification report for:  ABNORMAL FINDINGS LIVER *********\n",
      "                        precision    recall  f1-score   support\n",
      "\n",
      "     Disease Stability       0.50      1.00      0.67         3\n",
      "No evidence of disease       0.76      0.84      0.80        19\n",
      "           Progression       0.67      0.55      0.60        11\n",
      "               Unclear       0.60      0.43      0.50         7\n",
      "                 Mixed       0.00      0.00      0.00         1\n",
      "\n",
      "              accuracy                           0.68        41\n",
      "             macro avg       0.51      0.56      0.51        41\n",
      "          weighted avg       0.67      0.68      0.67        41\n",
      "\n",
      "      \n",
      "****** Classification report for:  INDETERMINATE NODULES LIVER *********\n",
      "                        precision    recall  f1-score   support\n",
      "\n",
      "     Disease Stability       0.50      1.00      0.67         3\n",
      "No evidence of disease       0.76      0.84      0.80        19\n",
      "           Progression       0.67      0.55      0.60        11\n",
      "               Unclear       0.60      0.43      0.50         7\n",
      "                 Mixed       0.00      0.00      0.00         1\n",
      "\n",
      "              accuracy                           0.68        41\n",
      "             macro avg       0.51      0.56      0.51        41\n",
      "          weighted avg       0.67      0.68      0.67        41\n",
      "\n",
      "      \n",
      "****** Classification report for:  PREVIOUS SURGERIES LIVER *********\n",
      "                        precision    recall  f1-score   support\n",
      "\n",
      "     Disease Stability       0.50      1.00      0.67         3\n",
      "No evidence of disease       0.76      0.84      0.80        19\n",
      "           Progression       0.67      0.55      0.60        11\n",
      "               Unclear       0.60      0.43      0.50         7\n",
      "                 Mixed       0.00      0.00      0.00         1\n",
      "\n",
      "              accuracy                           0.68        41\n",
      "             macro avg       0.51      0.56      0.51        41\n",
      "          weighted avg       0.67      0.68      0.67        41\n",
      "\n",
      "      \n",
      "****** Classification report for:  DISEASE LOCATION *********\n",
      "                        precision    recall  f1-score   support\n",
      "\n",
      "     Disease Stability       0.50      1.00      0.67         3\n",
      "No evidence of disease       0.72      0.81      0.76        16\n",
      "           Progression       0.67      0.55      0.60        11\n",
      "               Unclear       0.60      0.43      0.50         7\n",
      "                 Mixed       0.00      0.00      0.00         1\n",
      "\n",
      "              accuracy                           0.66        38\n",
      "             macro avg       0.50      0.56      0.51        38\n",
      "          weighted avg       0.65      0.66      0.64        38\n",
      "\n",
      "      \n"
     ]
    }
   ],
   "source": [
    "# predict on dev abnormal finds\n",
    "abnormalFinds3 = predictFiles(LiverClassifier_MIMP,[devFiles_Liver[0]],\n",
    "                              [devDF_Liver[0]], classes = multiclass[:5],\n",
    "                              impression=True)\n",
    "# predict indeterminate nodes\n",
    "indeterNods3 = predictFiles(LiverClassifier_MIMP, [devFiles_Liver[1]],\n",
    "                            [devDF_Liver[1]], classes = multiclass[:5],\n",
    "                            impression=True)\n",
    "# predict previous surgery\n",
    "prevSurg3 = predictFiles(LiverClassifier_MIMP, [devFiles_Liver[2]],\n",
    "                         [devDF_Liver[2]], classes = multiclass[:5],\n",
    "                         impression=True)\n",
    "# predict disease location\n",
    "diseaseLoc3 = predictFiles(LiverClassifier_MIMP, [devFiles_Liver[3]],\n",
    "                           [devDF_Liver[3]], classes = multiclass[:5],\n",
    "                          impression=True)"
   ]
  },
  {
   "cell_type": "markdown",
   "id": "f82cb520",
   "metadata": {},
   "source": [
    "Weird how f1 averages do not change, the inclusion of the organ notes does not seem to influence performance.\n",
    "**TODO:** Double check work to see if there are any errors, clean up."
   ]
  },
  {
   "cell_type": "markdown",
   "id": "63c0db33",
   "metadata": {},
   "source": [
    "### Pancreas Data"
   ]
  },
  {
   "cell_type": "code",
   "execution_count": 17,
   "id": "e49a1d82",
   "metadata": {},
   "outputs": [],
   "source": [
    "# file order: abnormal finds, indeterminate nods, prev surg, dis loc\n",
    "X_trainIMP = trainDF_Pancreas[0]['Impression and Note'].tolist() + trainDF_Pancreas[1]['Impression and Note'].tolist() + trainDF_Pancreas[2]['Impression and Note'].tolist() + trainDF_Pancreas[3]['Impression and Note'].tolist()\n",
    "\n",
    "yIMP_0 = [i[2:len(i)-2] for i in trainDF_Pancreas[0]['disease_label'].tolist()]\n",
    "yIMP_1 = [i[2:len(i)-2] for i in trainDF_Pancreas[1]['disease_label'].tolist()]\n",
    "yIMP_2 = [i[2:len(i)-2] for i in trainDF_Pancreas[2]['disease_label'].tolist()]\n",
    "yIMP_3 = [i[2:len(i)-2] for i in trainDF_Pancreas[3]['disease_label'].tolist()]\n",
    "y_trainIMP = yIMP_0 + yIMP_1 + yIMP_2 + yIMP_3\n",
    "\n",
    "X_trainNOT = trainDF_Pancreas[0]['organ_sentence'].tolist() + trainDF_Pancreas[1]['organ_sentence'].tolist() + trainDF_Pancreas[2]['organ_sentence'].tolist() + trainDF_Pancreas[3]['organ_sentence'].tolist()\n",
    "\n",
    "yNOT_0 = [i[2:len(i)-2] for i in trainDF_Pancreas[0]['organ_label'].tolist()]\n",
    "yNOT_1 = [i[2:len(i)-2] for i in trainDF_Pancreas[1]['organ_label'].tolist()]\n",
    "yNOT_2 = [i[2:len(i)-2] for i in trainDF_Pancreas[2]['organ_label'].tolist()]\n",
    "yNOT_3 = [i[2:len(i)-2] for i in trainDF_Pancreas[3]['organ_label'].tolist()]\n",
    "y_trainNOT = yNOT_0 + yNOT_1 + yNOT_2 + yNOT_3\n",
    "\n",
    "\n",
    "# may need to re-structure this below or here to properly test eveything. \n",
    "X_devIMP = devDF_Pancreas[0]['Impression and Note']\n",
    "X_devNOT = devDF_Pancreas[0]['organ_sentence']\n",
    "\n",
    "y_devIMP = devDF_Pancreas[0]['disease_label']\n",
    "y_devNOT = devDF_Pancreas[0]['organ_label']"
   ]
  },
  {
   "cell_type": "markdown",
   "id": "8504a15f",
   "metadata": {},
   "source": [
    "### Train Pancreas Data"
   ]
  },
  {
   "cell_type": "markdown",
   "id": "8ddad513",
   "metadata": {},
   "source": [
    "**Train on Pancreas Organ Notes**: `Present`/`Absent`"
   ]
  },
  {
   "cell_type": "code",
   "execution_count": 18,
   "id": "da435eb2",
   "metadata": {},
   "outputs": [
    {
     "data": {
      "text/plain": [
       "Pipeline(steps=[('tfidfvectorizer', TfidfVectorizer(ngram_range=(1, 5))),\n",
       "                ('randomforestclassifier',\n",
       "                 RandomForestClassifier(n_jobs=-1, verbose=False))])"
      ]
     },
     "execution_count": 18,
     "metadata": {},
     "output_type": "execute_result"
    }
   ],
   "source": [
    "PancreasClassifier_BNOT = RFClassifier(['Present', 'Absent'], multilabel = False)\n",
    "# now we combine all organ_sentence notes for all Liver issues (abnormal findings, indeterminate nods..etc)\n",
    "# with corresponding binary labels -- see cell above\n",
    "PancreasClassifier_BNOT.fit(X_trainNOT, y_trainNOT)"
   ]
  },
  {
   "cell_type": "code",
   "execution_count": 19,
   "id": "34ca81df",
   "metadata": {},
   "outputs": [
    {
     "data": {
      "text/plain": [
       "['models/RandomForest_PancreasNOTE_binary.joblib']"
      ]
     },
     "execution_count": 19,
     "metadata": {},
     "output_type": "execute_result"
    }
   ],
   "source": [
    "# save model\n",
    "joblib.dump(PancreasClassifier_BNOT, \"models/RandomForest_PancreasNOTE_binary.joblib\")"
   ]
  },
  {
   "cell_type": "markdown",
   "id": "a2ac1e1f",
   "metadata": {},
   "source": [
    "**Train with Pancreas Organ Notes + Impression**: `Present`/`Absent`"
   ]
  },
  {
   "cell_type": "code",
   "execution_count": 20,
   "id": "dd1cd225",
   "metadata": {},
   "outputs": [
    {
     "data": {
      "text/plain": [
       "Pipeline(steps=[('tfidfvectorizer', TfidfVectorizer(ngram_range=(1, 5))),\n",
       "                ('randomforestclassifier',\n",
       "                 RandomForestClassifier(n_jobs=-1, verbose=False))])"
      ]
     },
     "execution_count": 20,
     "metadata": {},
     "output_type": "execute_result"
    }
   ],
   "source": [
    "PancreasClassifier_BIMP = RFClassifier(['Present', 'Absent'], multilabel = False)\n",
    "# still keeping the same binary labels of present/absent\n",
    "PancreasClassifier_BIMP.fit(X_trainIMP, y_trainNOT)"
   ]
  },
  {
   "cell_type": "code",
   "execution_count": 21,
   "id": "02352895",
   "metadata": {},
   "outputs": [
    {
     "data": {
      "text/plain": [
       "['models/RandomForest_PancreasIMP_binary.joblib']"
      ]
     },
     "execution_count": 21,
     "metadata": {},
     "output_type": "execute_result"
    }
   ],
   "source": [
    "joblib.dump(PancreasClassifier_BIMP, \"models/RandomForest_PancreasIMP_binary.joblib\")"
   ]
  },
  {
   "cell_type": "markdown",
   "id": "16b18d9b",
   "metadata": {},
   "source": [
    "**Train with Pancreas Organ + Impression Note**: `Multi-label`"
   ]
  },
  {
   "cell_type": "code",
   "execution_count": 22,
   "id": "b55959f3",
   "metadata": {},
   "outputs": [
    {
     "data": {
      "text/plain": [
       "Pipeline(steps=[('tfidfvectorizer', TfidfVectorizer(ngram_range=(1, 5))),\n",
       "                ('randomforestclassifier',\n",
       "                 RandomForestClassifier(n_jobs=-1, verbose=False))])"
      ]
     },
     "execution_count": 22,
     "metadata": {},
     "output_type": "execute_result"
    }
   ],
   "source": [
    "multiclass = ['Disease Stability','No evidence of disease',\n",
    "              'Progression', 'Unclear', 'Mixed', 'Treatment response']\n",
    "\n",
    "# M: multilabel, IMP: impression\n",
    "PancreasClassifier_MIMP = RFClassifier(multiclass, multilabel=False)\n",
    "PancreasClassifier_MIMP.fit(X_trainIMP, y_trainIMP)"
   ]
  },
  {
   "cell_type": "code",
   "execution_count": 23,
   "id": "b7fcae83",
   "metadata": {},
   "outputs": [
    {
     "data": {
      "text/plain": [
       "['models/RandomForest_PancreasIMP_multi.joblib']"
      ]
     },
     "execution_count": 23,
     "metadata": {},
     "output_type": "execute_result"
    }
   ],
   "source": [
    "joblib.dump(PancreasClassifier_MIMP, \"models/RandomForest_PancreasIMP_multi.joblib\")"
   ]
  },
  {
   "cell_type": "markdown",
   "id": "4b2b3403",
   "metadata": {},
   "source": [
    "### Predict"
   ]
  },
  {
   "cell_type": "markdown",
   "id": "b12931f6",
   "metadata": {},
   "source": [
    "**Predict Pancreas Dev Data**: Organ Note only Binary prediction"
   ]
  },
  {
   "cell_type": "code",
   "execution_count": 24,
   "id": "488816ec",
   "metadata": {},
   "outputs": [
    {
     "name": "stdout",
     "output_type": "stream",
     "text": [
      "****** Classification report for:  ABNORMAL FINDINGS PANCREAS *********\n",
      "              precision    recall  f1-score   support\n",
      "\n",
      "     Present       0.57      0.17      0.27        23\n",
      "      Absent       0.44      0.83      0.58        18\n",
      "\n",
      "    accuracy                           0.46        41\n",
      "   macro avg       0.51      0.50      0.42        41\n",
      "weighted avg       0.51      0.46      0.40        41\n",
      "\n",
      "      \n",
      "****** Classification report for:  INDETERMINATE NODULES PANCREAS *********\n",
      "              precision    recall  f1-score   support\n",
      "\n",
      "     Present       0.00      0.00      0.00         0\n",
      "      Absent       1.00      0.83      0.91        41\n",
      "\n",
      "    accuracy                           0.83        41\n",
      "   macro avg       0.50      0.41      0.45        41\n",
      "weighted avg       1.00      0.83      0.91        41\n",
      "\n",
      "      \n",
      "****** Classification report for:  PREVIOUS SURGERIES PANCREAS *********\n",
      "              precision    recall  f1-score   support\n",
      "\n",
      "     Present       0.43      0.19      0.26        16\n",
      "      Absent       0.62      0.84      0.71        25\n",
      "\n",
      "    accuracy                           0.59        41\n",
      "   macro avg       0.52      0.51      0.49        41\n",
      "weighted avg       0.54      0.59      0.54        41\n",
      "\n",
      "      \n",
      "****** Classification report for:  DISEASE LOCATION *********\n",
      "              precision    recall  f1-score   support\n",
      "\n",
      "     Present       0.86      0.32      0.46        19\n",
      "      Absent       0.62      0.95      0.75        22\n",
      "\n",
      "    accuracy                           0.66        41\n",
      "   macro avg       0.74      0.64      0.61        41\n",
      "weighted avg       0.73      0.66      0.62        41\n",
      "\n",
      "      \n"
     ]
    }
   ],
   "source": [
    "# now predict on dev files (abnormal finds)\n",
    "abnormalFinds1_Panc = predictFiles(PancreasClassifier_BNOT,[devFiles_Pancreas[0]], [devDF_Pancreas[0]])\n",
    "# predict indeterminate nodes\n",
    "indeterNods1_Panc = predictFiles(PancreasClassifier_BNOT, [devFiles_Pancreas[1]], [devDF_Pancreas[1]])\n",
    "# predict previous surgery\n",
    "prevSurg1_Panc = predictFiles(PancreasClassifier_BNOT, [devFiles_Pancreas[2]], [devDF_Pancreas[2]])\n",
    "# predict disease location\n",
    "diseaseLoc1_Panc = predictFiles(PancreasClassifier_BNOT, [devFiles_Pancreas[3]], [devDF_Pancreas[3]])"
   ]
  },
  {
   "cell_type": "markdown",
   "id": "aede408a",
   "metadata": {},
   "source": [
    "**Predict Pancreas Dev Data**: Organ Note + Impression -- Binary"
   ]
  },
  {
   "cell_type": "code",
   "execution_count": 25,
   "id": "0d2175d9",
   "metadata": {},
   "outputs": [
    {
     "name": "stdout",
     "output_type": "stream",
     "text": [
      "****** Classification report for:  ABNORMAL FINDINGS PANCREAS *********\n",
      "              precision    recall  f1-score   support\n",
      "\n",
      "     Present       1.00      0.04      0.08        23\n",
      "      Absent       0.45      1.00      0.62        18\n",
      "\n",
      "    accuracy                           0.46        41\n",
      "   macro avg       0.72      0.52      0.35        41\n",
      "weighted avg       0.76      0.46      0.32        41\n",
      "\n",
      "      \n",
      "****** Classification report for:  INDETERMINATE NODULES PANCREAS *********\n",
      "              precision    recall  f1-score   support\n",
      "\n",
      "     Present       0.00      0.00      0.00         0\n",
      "      Absent       1.00      0.98      0.99        41\n",
      "\n",
      "    accuracy                           0.98        41\n",
      "   macro avg       0.50      0.49      0.49        41\n",
      "weighted avg       1.00      0.98      0.99        41\n",
      "\n",
      "      \n",
      "****** Classification report for:  PREVIOUS SURGERIES PANCREAS *********\n",
      "              precision    recall  f1-score   support\n",
      "\n",
      "     Present       1.00      0.06      0.12        16\n",
      "      Absent       0.62      1.00      0.77        25\n",
      "\n",
      "    accuracy                           0.63        41\n",
      "   macro avg       0.81      0.53      0.44        41\n",
      "weighted avg       0.77      0.63      0.51        41\n",
      "\n",
      "      \n",
      "****** Classification report for:  DISEASE LOCATION *********\n",
      "              precision    recall  f1-score   support\n",
      "\n",
      "     Present       1.00      0.05      0.10        19\n",
      "      Absent       0.55      1.00      0.71        22\n",
      "\n",
      "    accuracy                           0.56        41\n",
      "   macro avg       0.78      0.53      0.40        41\n",
      "weighted avg       0.76      0.56      0.43        41\n",
      "\n",
      "      \n"
     ]
    }
   ],
   "source": [
    "# now predict on dev files (abnormal finds)\n",
    "abnormalFinds2_Panc = predictFiles(PancreasClassifier_BIMP,[devFiles_Pancreas[0]], [devDF_Pancreas[0]], impression=True)\n",
    "# predict indeterminate nodes\n",
    "indeterNods2_Panc = predictFiles(PancreasClassifier_BIMP, [devFiles_Pancreas[1]], [devDF_Pancreas[1]], impression=True)\n",
    "# predict previous surgery\n",
    "prevSurg2_Panc = predictFiles(PancreasClassifier_BIMP, [devFiles_Pancreas[2]], [devDF_Pancreas[2]], impression=True)\n",
    "# predict disease location\n",
    "diseaseLoc2_Panc = predictFiles(PancreasClassifier_BIMP, [devFiles_Pancreas[3]], [devDF_Pancreas[3]], impression=True)"
   ]
  },
  {
   "cell_type": "markdown",
   "id": "996baf3e",
   "metadata": {},
   "source": [
    "**Predict Pancreas Dev Data**: Organ Note + Impression -- Multilabel"
   ]
  },
  {
   "cell_type": "code",
   "execution_count": 26,
   "id": "ba779f02",
   "metadata": {
    "scrolled": false
   },
   "outputs": [
    {
     "name": "stdout",
     "output_type": "stream",
     "text": [
      "****** Classification report for:  ABNORMAL FINDINGS PANCREAS *********\n",
      "                        precision    recall  f1-score   support\n",
      "\n",
      "     Disease Stability       0.40      0.67      0.50         3\n",
      "No evidence of disease       0.86      0.95      0.90        19\n",
      "           Progression       0.64      0.82      0.72        11\n",
      "               Unclear       0.00      0.00      0.00         7\n",
      "                 Mixed       0.00      0.00      0.00         1\n",
      "\n",
      "              accuracy                           0.71        41\n",
      "             macro avg       0.38      0.49      0.42        41\n",
      "          weighted avg       0.60      0.71      0.65        41\n",
      "\n",
      "      \n",
      "****** Classification report for:  INDETERMINATE NODULES PANCREAS *********\n",
      "                        precision    recall  f1-score   support\n",
      "\n",
      "     Disease Stability       0.40      0.67      0.50         3\n",
      "No evidence of disease       0.86      0.95      0.90        19\n",
      "           Progression       0.64      0.82      0.72        11\n",
      "               Unclear       0.00      0.00      0.00         7\n",
      "                 Mixed       0.00      0.00      0.00         1\n",
      "\n",
      "              accuracy                           0.71        41\n",
      "             macro avg       0.38      0.49      0.42        41\n",
      "          weighted avg       0.60      0.71      0.65        41\n",
      "\n",
      "      \n",
      "****** Classification report for:  PREVIOUS SURGERIES PANCREAS *********\n",
      "                        precision    recall  f1-score   support\n",
      "\n",
      "     Disease Stability       0.40      0.67      0.50         3\n",
      "No evidence of disease       0.86      0.95      0.90        19\n",
      "           Progression       0.64      0.82      0.72        11\n",
      "               Unclear       0.00      0.00      0.00         7\n",
      "                 Mixed       0.00      0.00      0.00         1\n",
      "\n",
      "              accuracy                           0.71        41\n",
      "             macro avg       0.38      0.49      0.42        41\n",
      "          weighted avg       0.60      0.71      0.65        41\n",
      "\n",
      "      \n",
      "****** Classification report for:  DISEASE LOCATION *********\n",
      "                        precision    recall  f1-score   support\n",
      "\n",
      "     Disease Stability       0.40      0.67      0.50         3\n",
      "No evidence of disease       0.86      0.95      0.90        19\n",
      "           Progression       0.64      0.82      0.72        11\n",
      "               Unclear       0.00      0.00      0.00         7\n",
      "                 Mixed       0.00      0.00      0.00         1\n",
      "\n",
      "              accuracy                           0.71        41\n",
      "             macro avg       0.38      0.49      0.42        41\n",
      "          weighted avg       0.60      0.71      0.65        41\n",
      "\n",
      "      \n"
     ]
    }
   ],
   "source": [
    "# now predict on dev files (abnormal finds)\n",
    "abnormalFinds3_Panc = predictFiles(PancreasClassifier_MIMP,[devFiles_Pancreas[0]], [devDF_Pancreas[0]],\n",
    "                                   classes=multiclass[:5], impression=True)\n",
    "# predict indeterminate nodes\n",
    "indeterNods3_Panc = predictFiles(PancreasClassifier_MIMP, [devFiles_Pancreas[1]], [devDF_Pancreas[1]],\n",
    "                                classes=multiclass[:5], impression=True)\n",
    "# predict previous surgery\n",
    "prevSurg3_Panc = predictFiles(PancreasClassifier_MIMP, [devFiles_Pancreas[2]], [devDF_Pancreas[2]],\n",
    "                             classes=multiclass[:5], impression=True)\n",
    "# predict disease location\n",
    "diseaseLoc3_Panc = predictFiles(PancreasClassifier_MIMP, [devFiles_Pancreas[3]], [devDF_Pancreas[3]],\n",
    "                               classes=multiclass[:5], impression=True)"
   ]
  },
  {
   "cell_type": "code",
   "execution_count": null,
   "id": "69d16f40",
   "metadata": {},
   "outputs": [],
   "source": []
  }
 ],
 "metadata": {
  "kernelspec": {
   "display_name": "Python 3",
   "language": "python",
   "name": "python3"
  },
  "language_info": {
   "codemirror_mode": {
    "name": "ipython",
    "version": 3
   },
   "file_extension": ".py",
   "mimetype": "text/x-python",
   "name": "python",
   "nbconvert_exporter": "python",
   "pygments_lexer": "ipython3",
   "version": "3.8.8"
  }
 },
 "nbformat": 4,
 "nbformat_minor": 5
}
