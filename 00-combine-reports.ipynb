{
 "cells": [
  {
   "cell_type": "code",
   "execution_count": 1,
   "id": "fed62058",
   "metadata": {},
   "outputs": [],
   "source": [
    "# basid data manipulation\n",
    "import numpy as np\n",
    "import pandas as pd\n",
    "\n",
    "# system\n",
    "import os"
   ]
  },
  {
   "cell_type": "code",
   "execution_count": 2,
   "id": "52c94b5d",
   "metadata": {},
   "outputs": [],
   "source": [
    "def getFiles(organName, listDir, prefix=None):\n",
    "    \"\"\"\n",
    "    Generate list of files associa-\n",
    "    ted with each organ of interest\n",
    "    in the list of files.\n",
    "    --------------------------\n",
    "    Input:\n",
    "        organ_list: list of organs\n",
    "                    str\n",
    "        listDir:    list of files  \n",
    "                    to search\n",
    "        prefix:     OS path prefix\n",
    "    Output:\n",
    "        lists:      list of files \n",
    "                    associated with\n",
    "                    organ\n",
    "    \"\"\"\n",
    "    # get the files from listDir that contain 'organName'\n",
    "    matching = [file for file in listDir if organName in file]\n",
    "    \n",
    "    # append the path prefix so that files are accessible\n",
    "    if prefix:\n",
    "        matchingFixed = [prefix + file for file in matching]\n",
    "        return matchingFixed\n",
    "    \n",
    "    else:\n",
    "        return matching"
   ]
  },
  {
   "cell_type": "code",
   "execution_count": 3,
   "id": "63a212c8",
   "metadata": {},
   "outputs": [],
   "source": [
    "def filestoDF(file_list):\n",
    "    \"\"\"\n",
    "    Return a list of data frames from the given\n",
    "    list of files.\n",
    "    \"\"\"\n",
    "    dfs = [pd.read_csv(file, low_memory=False) for file in file_list]\n",
    "    return dfs"
   ]
  },
  {
   "cell_type": "code",
   "execution_count": 4,
   "id": "cfa8db06",
   "metadata": {},
   "outputs": [],
   "source": [
    "def combineFiles(organ_files, disease_files, separate=False):\n",
    "    \"\"\"\n",
    "    Combining File columns for organs and disease status.\n",
    "    Here the columns are added to the train and dev files\n",
    "    of each organ. The added columns correspond to the labels\n",
    "    and impressions of each idx.\n",
    "    \n",
    "    After columns are combined, a new DF is created\n",
    "    and saved as a csv. These are outputted as a list of DFs.\n",
    "    ---------------------------------------------------------\n",
    "    Inputs:\n",
    "        organ_files:   list of file lists. each correspond to a \n",
    "                       list of files associated with a particular\n",
    "                       organ. Here organ_files are for ex all files\n",
    "                       associated with liver (train and dev).\n",
    "        disease_files: list of disease status files (train and\n",
    "                       dev). These contain impression and labels.\n",
    "    \"\"\"\n",
    "    # if we are respecting train/test splits of each organ\n",
    "    if separate:\n",
    "        # get train and dev files separately (to\n",
    "        #merge impressions separately)\n",
    "        trainFiles = getFiles('train', organ_files)\n",
    "        devFiles = getFiles('dev', organ_files)\n",
    "        organ_files = [trainFiles, devFiles]\n",
    "        \n",
    "        \n",
    "        # concatenate disease files vertically to\n",
    "        # merge on left (organs), here including dev\n",
    "        # and train to match on idx\n",
    "        diseaseCombined = pd.concat([disease_files[0],\n",
    "                                     disease_files[1]])\n",
    "        \n",
    "        splits = True # flagging\n",
    "    \n",
    "    new_dfs = []\n",
    "    # train or dev list of files\n",
    "    for fileList in organ_files: \n",
    "        \n",
    "        for file in fileList:\n",
    "            # saving file name \n",
    "            old = file.split('/')[-1]\n",
    "            new = old.split('.')[0] + '_disease_status.csv'\n",
    "            \n",
    "            # really a path\n",
    "            fileName = '../../data_200/data_silvia/' + new\n",
    "            \n",
    "            # read as a pandas DF\n",
    "            fileDF = pd.read_csv(file, low_memory=False)\n",
    "            \n",
    "            if splits:\n",
    "            # merge df with concatenated disease status file\n",
    "                combine = pd.merge(fileDF, diseaseCombined,\n",
    "                                   how='inner', on ='idx')\n",
    "            # rename columns for cleanliness, idx remains the same\n",
    "            combine = combine.rename(columns={'sentence_x':'organ_sentence',\n",
    "                                             'sentence_y': 'disease_sentence',\n",
    "                                             'label_x': 'organ_label',\n",
    "                                            'label_y': 'disease_label'})\n",
    "\n",
    "            # new column for organ specific + impression\n",
    "            combine['Impression and Note'] = combine['organ_sentence'] + combine['disease_sentence']\n",
    "            \n",
    "            new_dfs.append(combine)\n",
    "            combine.to_csv(fileName, index=False)\n",
    "            \n",
    "    return new_dfs      "
   ]
  },
  {
   "cell_type": "markdown",
   "id": "b23c3563",
   "metadata": {},
   "source": [
    "### Combine impressions with notes \n",
    "For now focus only in organs:\n",
    "- Liver\n",
    "- Pancreas"
   ]
  },
  {
   "cell_type": "code",
   "execution_count": 5,
   "id": "30271592",
   "metadata": {},
   "outputs": [],
   "source": [
    "# os path to access all files\n",
    "path = '../data_200'\n",
    "dir_list = os.listdir(path)"
   ]
  },
  {
   "cell_type": "code",
   "execution_count": 6,
   "id": "92bf86f1",
   "metadata": {
    "scrolled": true
   },
   "outputs": [],
   "source": [
    "# get list of files associated with organs of interest and read as df's\n",
    "liverFiles = getFiles('Liver', dir_list, prefix = path + '/')\n",
    "pancreasFiles = getFiles('Pancreas', dir_list, prefix = path + '/')\n",
    "\n",
    "# disease status files\n",
    "trainDS = pd.read_csv(path + '/' + 'train_disease_status.csv', low_memory = False)\n",
    "devDS = pd.read_csv(path + '/' + 'dev_disease_status.csv', low_memory = False)\n",
    "disease_status = [trainDS, devDS]"
   ]
  },
  {
   "cell_type": "code",
   "execution_count": 7,
   "id": "dbea5fa6",
   "metadata": {},
   "outputs": [],
   "source": [
    "liverCombined = combineFiles(liverFiles, disease_status, separate=True)\n",
    "pancreasCombined = combineFiles(pancreasFiles, disease_status, separate=True)"
   ]
  },
  {
   "cell_type": "code",
   "execution_count": null,
   "id": "a26dbf08",
   "metadata": {},
   "outputs": [],
   "source": []
  },
  {
   "cell_type": "code",
   "execution_count": null,
   "id": "7ad7e100",
   "metadata": {},
   "outputs": [],
   "source": []
  }
 ],
 "metadata": {
  "kernelspec": {
   "display_name": "Python 3",
   "language": "python",
   "name": "python3"
  },
  "language_info": {
   "codemirror_mode": {
    "name": "ipython",
    "version": 3
   },
   "file_extension": ".py",
   "mimetype": "text/x-python",
   "name": "python",
   "nbconvert_exporter": "python",
   "pygments_lexer": "ipython3",
   "version": "3.8.8"
  }
 },
 "nbformat": 4,
 "nbformat_minor": 5
}
